{
 "cells": [
  {
   "cell_type": "markdown",
   "id": "851289f6-6bab-4ea8-971c-c03c2ec9391f",
   "metadata": {},
   "source": [
    "# Python data visualization"
   ]
  },
  {
   "cell_type": "markdown",
   "id": "74b4348a-177f-4ff3-887b-e397ac5fa05c",
   "metadata": {},
   "source": [
    "## Agenda\n",
    "\n",
    "* Plotting from pandas\n",
    "* Matplotlib basics\n",
    "* Python visualization alternatives (briefly)\n",
    "    - Matplotlib\n",
    "    - Plotly\n",
    "    - Bokeh\n",
    "    - Altair\n",
    "    - Seaborn\n",
    "    - ...\n",
    "* Visualization distribution options"
   ]
  },
  {
   "cell_type": "markdown",
   "id": "8dc408ef-ae11-48ae-a636-e4286ac5e591",
   "metadata": {},
   "source": [
    "# Setup"
   ]
  },
  {
   "cell_type": "markdown",
   "id": "e5d46f62-6f64-4716-9655-e75389f9e287",
   "metadata": {},
   "source": [
    "**To run notebooks in local jupyter lab**\n",
    "* Clone repo: https://bitbucket.itgit.oneadr.net/scm/~m015696/pandas_visualization.git\n",
    "* run `pip install -r requirements.txt` in command prompt to install all requirements\n",
    "* start jupyter lab with: `jupyter lab`\n",
    "\n",
    "**To follow along in notebook in Binder (temporary web version)**\n",
    "* Go to link: https://mybinder.org/v2/gh/purrepirre/visualization_demo/HEAD\n",
    "\n",
    "**Jupyter lab basics**\n",
    "* Shift + ENTER to run cell and move to next  \n",
    "* Shift + TAB to get contextual documentation "
   ]
  },
  {
   "cell_type": "code",
   "execution_count": null,
   "id": "9907691d-28fd-4dd4-b43c-b7fb5b22aa3c",
   "metadata": {},
   "outputs": [],
   "source": [
    "from vega_datasets import data\n",
    "import pandas as pd"
   ]
  },
  {
   "cell_type": "markdown",
   "id": "944343b1-35d0-4549-9b64-ae5c3f1aa793",
   "metadata": {},
   "source": [
    "# Plotting from pandas"
   ]
  },
  {
   "cell_type": "markdown",
   "id": "82314244-df70-4af7-afd4-01cab13f00af",
   "metadata": {},
   "source": [
    "By default plotting directly from pandas used [matplotlib](https://matplotlib.org/) as the plotting backend  \n"
   ]
  },
  {
   "cell_type": "markdown",
   "id": "59fed7f2-f432-42fc-a4bd-625abb07aff2",
   "metadata": {},
   "source": [
    "### Get sample data"
   ]
  },
  {
   "cell_type": "code",
   "execution_count": null,
   "id": "98be0e30-218c-4136-a9d2-d01e323e59dd",
   "metadata": {},
   "outputs": [],
   "source": [
    "df = data.stocks()\n",
    "df.head()"
   ]
  },
  {
   "cell_type": "code",
   "execution_count": null,
   "id": "aba771b1-6572-49fb-92ea-6ca62ee3441b",
   "metadata": {},
   "outputs": [],
   "source": [
    "df.symbol.value_counts()"
   ]
  },
  {
   "cell_type": "markdown",
   "id": "7c3d4396-c71c-4d5b-bde0-819d006f27c4",
   "metadata": {},
   "source": [
    "## Plot individual stock"
   ]
  },
  {
   "cell_type": "code",
   "execution_count": null,
   "id": "26188d2e-1b33-408d-8b6d-0c9b0c9bd052",
   "metadata": {},
   "outputs": [],
   "source": [
    "df.loc[df.symbol=='AAPL'].plot(x='date',y='price')"
   ]
  },
  {
   "cell_type": "markdown",
   "id": "5b11bb8f-629b-4b91-a126-f8a848fbc533",
   "metadata": {},
   "source": [
    "### Adjust plotsize"
   ]
  },
  {
   "cell_type": "code",
   "execution_count": null,
   "id": "c972d54a-fb69-43ef-b68c-a7370683aab5",
   "metadata": {},
   "outputs": [],
   "source": [
    "df.loc[df.symbol=='AAPL'].plot(x='date',y='price', figsize=(16,8), grid=True)"
   ]
  },
  {
   "cell_type": "markdown",
   "id": "8841f99f-5af3-498f-96ac-a2feffcc6836",
   "metadata": {},
   "source": [
    "### Re-structure data to plot all categories (stocks)"
   ]
  },
  {
   "cell_type": "code",
   "execution_count": null,
   "id": "bc3d7296-5835-4541-9420-7831b8484180",
   "metadata": {},
   "outputs": [],
   "source": [
    "df_pivot =  df.pivot(index='date', columns='symbol', values='price')"
   ]
  },
  {
   "cell_type": "code",
   "execution_count": null,
   "id": "fbc957c8-1e86-4c15-91d6-12511c3f2aa8",
   "metadata": {},
   "outputs": [],
   "source": [
    "df_pivot"
   ]
  },
  {
   "cell_type": "code",
   "execution_count": null,
   "id": "a21c3fd1-b27c-4493-9784-d84d0afe14da",
   "metadata": {},
   "outputs": [],
   "source": [
    "df_pivot.plot(figsize=(16,8), grid=True)"
   ]
  },
  {
   "cell_type": "markdown",
   "id": "d9b24a70-9fdf-4441-9089-3d5d4402c778",
   "metadata": {},
   "source": [
    "## Series plotting"
   ]
  },
  {
   "cell_type": "markdown",
   "id": "4347ba00-883a-4adf-bb1b-2c798eb5e912",
   "metadata": {},
   "source": [
    "### Get some data about cars!"
   ]
  },
  {
   "cell_type": "code",
   "execution_count": null,
   "id": "026f557f-39ee-4ccf-8ecb-e21b7d0bfd00",
   "metadata": {},
   "outputs": [],
   "source": [
    "df_cars = data.cars()\n",
    "df_cars.head()"
   ]
  },
  {
   "cell_type": "code",
   "execution_count": null,
   "id": "dd578e77-098e-4731-96d6-edefa9264b2c",
   "metadata": {},
   "outputs": [],
   "source": [
    "df_cars.Horsepower.plot.hist(figsize=(12,6))"
   ]
  },
  {
   "cell_type": "code",
   "execution_count": null,
   "id": "3d3b76e4-2d99-4829-8204-06afe18e25b7",
   "metadata": {},
   "outputs": [],
   "source": [
    "type(_)"
   ]
  },
  {
   "cell_type": "code",
   "execution_count": null,
   "id": "334cc322-875f-4e0a-92a2-421a80aeb642",
   "metadata": {},
   "outputs": [],
   "source": [
    "df_cars_by_origin = df_cars.groupby('Origin').mean()\n",
    "df_cars_by_origin"
   ]
  },
  {
   "cell_type": "code",
   "execution_count": null,
   "id": "ed6f1b3a-0dd0-4312-9fc5-3116fce1ca9e",
   "metadata": {},
   "outputs": [],
   "source": [
    "\n",
    "_ = df_cars_by_origin.loc[:,'Horsepower'].plot.barh(figsize=(20,8), title='Horsepower (mean)')"
   ]
  },
  {
   "cell_type": "markdown",
   "id": "bb5942a7-fe8f-4060-a545-5d0053217ed0",
   "metadata": {},
   "source": [
    "## pandas plotting tools"
   ]
  },
  {
   "cell_type": "markdown",
   "id": "6b75d4c7-4c55-4917-89e8-258ff830701a",
   "metadata": {},
   "source": [
    "Specialized plots for special occasions"
   ]
  },
  {
   "cell_type": "code",
   "execution_count": null,
   "id": "18b584b4-3d6f-4fc0-81ab-7405cd656b7f",
   "metadata": {},
   "outputs": [],
   "source": [
    "from pandas.plotting import scatter_matrix"
   ]
  },
  {
   "cell_type": "markdown",
   "id": "324ffd4a-75cd-415b-b87b-535fd5958e3a",
   "metadata": {},
   "source": [
    "### Scatter matrix"
   ]
  },
  {
   "cell_type": "markdown",
   "id": "d067f350-84d7-42ad-894d-73e14b188731",
   "metadata": {},
   "source": [
    "Use case: give a quick overview of how each column in a dataframe relates to the other columns"
   ]
  },
  {
   "cell_type": "code",
   "execution_count": null,
   "id": "32087634-1647-449d-9ff8-d3a1eafcb0c2",
   "metadata": {},
   "outputs": [],
   "source": [
    "_ = scatter_matrix(df_cars, figsize=(24,18))"
   ]
  },
  {
   "cell_type": "markdown",
   "id": "467d2e7e-2e3c-481b-af88-2d3a396babe0",
   "metadata": {},
   "source": [
    "### What happend to \"Year\" info?"
   ]
  },
  {
   "cell_type": "code",
   "execution_count": null,
   "id": "7314d4be-fa6a-45fc-9096-6364cf973574",
   "metadata": {},
   "outputs": [],
   "source": [
    "df_cars.head()"
   ]
  },
  {
   "cell_type": "markdown",
   "id": "16810371-5da0-4293-bb9d-fca86ec00f5b",
   "metadata": {},
   "source": [
    "#### Make new numeric \"Year\" column"
   ]
  },
  {
   "cell_type": "code",
   "execution_count": null,
   "id": "7e76b431-fd70-471b-b067-9e89ea04a409",
   "metadata": {},
   "outputs": [],
   "source": [
    "df_cars['make_year'] = df_cars.Year.dt.year"
   ]
  },
  {
   "cell_type": "code",
   "execution_count": null,
   "id": "f9872787-b399-48be-9c38-21c82cba9f4b",
   "metadata": {},
   "outputs": [],
   "source": [
    "_ = scatter_matrix(df_cars, figsize=(24,18))"
   ]
  },
  {
   "cell_type": "code",
   "execution_count": null,
   "id": "2201dc61-6856-41e6-a898-0131df411a5a",
   "metadata": {},
   "outputs": [],
   "source": []
  },
  {
   "cell_type": "markdown",
   "id": "afb60445-b07b-4581-aa30-41c98d998d23",
   "metadata": {},
   "source": [
    "## More info on pandas plotting "
   ]
  },
  {
   "cell_type": "markdown",
   "id": "5207c4c6-9131-48e1-b913-964d6da35f5a",
   "metadata": {},
   "source": [
    "The [Visualization Chapter](https://pandas.pydata.org/docs/user_guide/visualization.html#) of the pandas User Guide gives a good overview  \n",
    "In the [Cookbook](https://pandas.pydata.org/docs/user_guide/cookbook.html#plotting) section of the pandas docs there is a section around Visualization techniques  \n",
    "Overview of [Pandas visualization ecosystem](https://pandas.pydata.org/docs/ecosystem.html#visualization)  "
   ]
  },
  {
   "cell_type": "markdown",
   "id": "9e4796d1-39a4-4543-9745-32e474c05f02",
   "metadata": {
    "tags": []
   },
   "source": [
    "# Matplotlib Basics"
   ]
  },
  {
   "cell_type": "markdown",
   "id": "e811aabb-5486-432e-a935-fd3584178940",
   "metadata": {},
   "source": [
    "* Extensive documentation available at: https://matplotlib.org/"
   ]
  },
  {
   "cell_type": "markdown",
   "id": "4cf3367b-a79f-42a4-9635-2047369c9b3c",
   "metadata": {},
   "source": [
    "**Pros**\n",
    "* Easy to get started\n",
    "* Powerful\n",
    "* Almost every aspect of plot is configurable\n",
    "* Plenty of examples and good documentation available\n",
    "* Used for long time by many --> Most problems/questions have answers on StackOverflow etc.\n",
    "\n",
    "**Cons**\n",
    "* 2 APIs \"Pyplot\" and Object-oriented, need to choose and/or be aware of difference\n",
    "* Pyplot API statefullness can be a bit confusing (from beginning built to mimic MATLAB)\n",
    "* Main target output is static images (interacivity is possible)\n",
    "\n",
    "_Matplotlib makes easy things easy and hard things possible._"
   ]
  },
  {
   "cell_type": "code",
   "execution_count": null,
   "id": "b5769435-3adb-4c2c-9fa7-f6c5cb93bc4f",
   "metadata": {},
   "outputs": [],
   "source": [
    "import matplotlib.pyplot as plt\n",
    "from vega_datasets import data\n",
    "import pandas as pd"
   ]
  },
  {
   "cell_type": "code",
   "execution_count": null,
   "id": "6f6f197d-9454-4144-bd32-3a7be6d2be5d",
   "metadata": {},
   "outputs": [],
   "source": [
    "x = [1,3,5,10]\n",
    "y = [1,10,5,20]\n",
    "\n",
    "plt.plot(x,y)"
   ]
  },
  {
   "cell_type": "code",
   "execution_count": null,
   "id": "2d8d0597-b0b9-47b7-8790-782597547bc4",
   "metadata": {},
   "outputs": [],
   "source": [
    "df_stocks = data.stocks()\n",
    "df_stocks.head()"
   ]
  },
  {
   "cell_type": "code",
   "execution_count": null,
   "id": "c2963458-b028-4515-a989-e5d3e0465186",
   "metadata": {},
   "outputs": [],
   "source": [
    "df_tmp = df_stocks[df_stocks.symbol=='MSFT']\n",
    "x = df_tmp.date\n",
    "y = df_tmp.price"
   ]
  },
  {
   "cell_type": "markdown",
   "id": "5312dbb6-4a77-43c9-a23f-62050915eaf8",
   "metadata": {},
   "source": [
    "## Pyplot API (built to mimic MATLAB)"
   ]
  },
  {
   "cell_type": "code",
   "execution_count": null,
   "id": "9c4fe8b1-4bb3-44db-ba1f-86b73d6ca2a8",
   "metadata": {},
   "outputs": [],
   "source": [
    "plt.figure(figsize=(18,6))\n",
    "plt.plot(x,y)\n",
    "_ = plt.title('Stock prices')\n"
   ]
  },
  {
   "cell_type": "markdown",
   "id": "54ffae31-1498-40b9-befa-e028004f96d7",
   "metadata": {},
   "source": [
    "The Pyplot API has the concept of \"currently active\" figure and axes  \n",
    "This can be convinient for simple cases, but makes things confusing for more complex plots"
   ]
  },
  {
   "cell_type": "markdown",
   "id": "d8281268-523a-4c74-a65a-2566ee4289f1",
   "metadata": {},
   "source": [
    "## Object-oriented API (recommended)"
   ]
  },
  {
   "cell_type": "code",
   "execution_count": null,
   "id": "f08324a4-62ff-42fc-b3ca-c64141033979",
   "metadata": {},
   "outputs": [],
   "source": [
    "fig, ax = plt.subplots(figsize=(18,6))\n",
    "ax.plot(x,y)\n",
    "_ = ax.set_title('Stock prices')"
   ]
  },
  {
   "cell_type": "markdown",
   "id": "4ef9fe4d-1946-498c-a435-6b45793edfaa",
   "metadata": {},
   "source": [
    "### Terminology: Axes and Axis"
   ]
  },
  {
   "cell_type": "markdown",
   "id": "dadf4257-4059-41b4-a0f3-5c648177ca72",
   "metadata": {},
   "source": [
    "Most of the terms are straightforward but the main thing to remember is that:\n",
    "\n",
    "The _Figure_ is the final image that may contain 1 or more _Axes_.  \n",
    "The Axes represent an individual plot (don't confuse this with the word \"axis\", which refers to the x/y axis of a plot)."
   ]
  },
  {
   "cell_type": "markdown",
   "id": "ef5a3cfe-3239-4dfe-b697-0a8ff96ca001",
   "metadata": {},
   "source": [
    "## Multiple lines in same plot"
   ]
  },
  {
   "cell_type": "code",
   "execution_count": null,
   "id": "1dce1788-205e-4d48-b532-69ecd7e484bc",
   "metadata": {},
   "outputs": [],
   "source": [
    "df_stocks = data.stocks()\n",
    "df_stocks"
   ]
  },
  {
   "cell_type": "markdown",
   "id": "c8624a4a-2710-48a3-92a5-025354dc92c5",
   "metadata": {},
   "source": [
    "To draw multiple lines in same axes we need to loop and draw one at the time"
   ]
  },
  {
   "cell_type": "code",
   "execution_count": null,
   "id": "31b6601b-c604-4747-a006-05c4e10c8cab",
   "metadata": {},
   "outputs": [],
   "source": [
    "fig, ax = plt.subplots(figsize=(18,6))\n",
    "\n",
    "for symbol in df_stocks.symbol.unique():\n",
    "    df_tmp = df_stocks[df_stocks.symbol==symbol]\n",
    "    ax.plot(df_tmp.date, df_tmp.price, label=symbol)\n",
    "\n",
    "ax.legend()\n",
    "_ = ax.set_title('Prices')"
   ]
  },
  {
   "cell_type": "markdown",
   "id": "6ac1cefe-12b6-4cd5-aedb-5b307e926d9e",
   "metadata": {},
   "source": [
    "## Subplots"
   ]
  },
  {
   "cell_type": "code",
   "execution_count": null,
   "id": "ea45e6e4-34fc-4672-9959-d1fc64a42800",
   "metadata": {
    "tags": []
   },
   "outputs": [],
   "source": [
    "fig, axs = plt.subplots(nrows=3, ncols=2, figsize=(36,12), sharex=True)\n",
    "axs = axs.flatten()\n",
    "\n",
    "for i, symbol in enumerate(df_stocks.symbol.unique()):\n",
    "    df_tmp = df_stocks[df_stocks.symbol==symbol]\n",
    "    ax = axs[i]\n",
    "    ax.plot(df_tmp.date, df_tmp.price)\n",
    "    ax.set_title(f'Stock prices for {symbol}')\n",
    "    ax.grid(True)\n",
    "\n",
    "_ = fig.suptitle('STOCK PRICES')    "
   ]
  },
  {
   "cell_type": "markdown",
   "id": "f9377355-b621-424b-9d1d-496932aeca8f",
   "metadata": {},
   "source": [
    "## Scatter plot"
   ]
  },
  {
   "cell_type": "code",
   "execution_count": null,
   "id": "e8513078-121a-4446-a130-95975439f478",
   "metadata": {},
   "outputs": [],
   "source": [
    "df_stocks = data.stocks()\n",
    "df_stocks"
   ]
  },
  {
   "cell_type": "markdown",
   "id": "52998a12-23a1-45b7-ae41-5295a5b531ac",
   "metadata": {},
   "source": [
    "Example: Scatter-plot over yields over two differnt periods "
   ]
  },
  {
   "cell_type": "code",
   "execution_count": null,
   "id": "0c880fe2-4dba-4264-8219-2d0d0cabfcc5",
   "metadata": {},
   "outputs": [],
   "source": [
    "df_tmp = df_stocks.pivot(index='date', columns='symbol', values='price')\n",
    "\n",
    "df_tmp"
   ]
  },
  {
   "cell_type": "code",
   "execution_count": null,
   "id": "84876e8a-c434-43b1-b3a5-13039144d8a1",
   "metadata": {},
   "outputs": [],
   "source": [
    "def get_yield(periods):\n",
    "    '''\n",
    "        Calculate yield over a given number of periods\n",
    "        param: periods: Number of periods back to compare with\n",
    "    '''\n",
    "    df_diff = df_tmp.diff(periods=periods)\n",
    "    return df_diff.div(df_tmp.shift(periods), axis='columns')"
   ]
  },
  {
   "cell_type": "code",
   "execution_count": null,
   "id": "741eaea4-f427-415e-9692-b0279bad91bb",
   "metadata": {},
   "outputs": [],
   "source": [
    "fig, ax = plt.subplots(figsize=(20,12))\n",
    "\n",
    "X_YIELD_PERIODS = 12\n",
    "Y_YIELD_PERIODS = 1\n",
    "\n",
    "ax.scatter(x=get_yield(periods=X_YIELD_PERIODS).values.flatten(), y=get_yield(periods=Y_YIELD_PERIODS).values.flatten())\n",
    "\n",
    "ax.grid(True)\n",
    "ax.set_xlabel(f'Yield over {X_YIELD_PERIODS} month(s)')\n",
    "ax.set_ylabel(f'Yield over {Y_YIELD_PERIODS} month(s)')"
   ]
  },
  {
   "cell_type": "markdown",
   "id": "5db09c90-85ed-490c-ac1b-84278bc765bd",
   "metadata": {},
   "source": [
    "The data-munging capabilities of pandas + powerful visualization from matplotlib/plotly/altair + Interactive environment like Jupyter ==> Data Analysis Goodness "
   ]
  },
  {
   "cell_type": "markdown",
   "id": "4496d967-480f-41ad-b476-9658ce33f57f",
   "metadata": {},
   "source": [
    "## Mix of plot types"
   ]
  },
  {
   "cell_type": "code",
   "execution_count": null,
   "id": "018084c2-8f8e-4a8b-8537-31734dc48278",
   "metadata": {},
   "outputs": [],
   "source": [
    "from matplotlib import cm\n",
    "from cycler import cycler"
   ]
  },
  {
   "cell_type": "code",
   "execution_count": null,
   "id": "c440361d-4385-4826-8d72-b1d29c4fc7a0",
   "metadata": {},
   "outputs": [],
   "source": [
    "df_cars = data.cars()\n",
    "df_cars.head()"
   ]
  },
  {
   "cell_type": "code",
   "execution_count": null,
   "id": "94bfbd42-5fb7-48f0-b5d9-4e35991ef465",
   "metadata": {},
   "outputs": [],
   "source": [
    "fig,ax = plt.subplots(figsize=(16,16))\n",
    "s = ax.scatter(x=df_cars.Horsepower, y=df_cars.Weight_in_lbs, c=df_cars.Acceleration, cmap=cm.cividis)\n",
    "plt.colorbar(s)"
   ]
  },
  {
   "cell_type": "code",
   "execution_count": null,
   "id": "2310053f-f7fb-4a21-9029-eec3fac510b2",
   "metadata": {},
   "outputs": [],
   "source": [
    "colmap = cm.tab10"
   ]
  },
  {
   "cell_type": "code",
   "execution_count": null,
   "id": "631d8dba-d1a2-4af4-86cb-d1763d3acbcd",
   "metadata": {},
   "outputs": [],
   "source": [
    "colors = {key:colmap(i) for i,key in enumerate(df_cars.Origin.unique())}"
   ]
  },
  {
   "cell_type": "code",
   "execution_count": null,
   "id": "6ccd5a16-1756-43e6-a01d-47949230edbb",
   "metadata": {},
   "outputs": [],
   "source": [
    "colors"
   ]
  },
  {
   "cell_type": "code",
   "execution_count": null,
   "id": "097ce602-702e-44ad-b96a-1e7638e35596",
   "metadata": {},
   "outputs": [],
   "source": [
    "df_cylinder_plot = df_cars.groupby(['Origin','Cylinders']).count().iloc[:,0].reset_index().rename({'Name':'car_count'}, axis=1)\n",
    "df_cylinder_plot"
   ]
  },
  {
   "cell_type": "code",
   "execution_count": null,
   "id": "d38a9a15-6c0c-44ab-a1fd-0789a8054a6c",
   "metadata": {},
   "outputs": [],
   "source": [
    "lo = '''\n",
    "    AAD\n",
    "    BCD\n",
    "    ZZZ\n",
    "'''\n",
    "\n",
    "fig, axs = plt.subplot_mosaic(layout = lo, figsize=(24,16))\n",
    "\n",
    "### Nr of cars per year\n",
    "ax = axs['A']\n",
    "df_by_year = df_cars.groupby('Year').count().iloc[:,0].reset_index().rename({'Name':'car_count'}, axis=1)\n",
    "ax.plot(df_by_year.Year, df_by_year.car_count, '-o')\n",
    "ax.set_ylim((0,65))\n",
    "ax.grid(True)\n",
    "ax.set_title('Nr of cars per year')\n",
    "\n",
    "### Cars by origin pie-chart\n",
    "ax = axs['B']\n",
    "ax.pie(df_cars.Origin.value_counts(), labels=df_cars.Origin.value_counts().index)\n",
    "ax.set_title('Nr of cars by Origin')\n",
    "\n",
    "### Scatter-chart horse-power vs. Miles per Gallon\n",
    "ax = axs['C']\n",
    "ax.scatter(df_cars.Horsepower,df_cars.Miles_per_Gallon ,c=df_cars.Origin.map(colors), alpha=0.8)\n",
    "ax.set_title('HorsePower vs. Miles per Gallon')\n",
    "ax.set_xlabel('Horsepower')\n",
    "ax.set_ylabel('Miles per Gallon')\n",
    "\n",
    "\n",
    "### Plot bar-chart per cylinder count\n",
    "ax = axs['D']\n",
    "df_cylinder_plot = df_cars.groupby(['Origin','Cylinders']).count().iloc[:,0].reset_index().rename({'Name':'car_count'}, axis=1)\n",
    "\n",
    "### Make sure we have values for every combination of Origin + Cyliners\n",
    "mi = pd.MultiIndex.from_product([df_cylinder_plot.Origin.unique(), df_cylinder_plot.Cylinders.unique()], names=['Origin','Cylinders'])\n",
    "df_cylinder_plot = df_cylinder_plot.set_index(['Origin','Cylinders']).reindex(mi, fill_value=0).reset_index()\n",
    "\n",
    "### iterate over each cylinder_count, and add to plot, taking into account to stack the plot by starting bars where last iteration ended with \"left=cyl\" parameter\n",
    "prev_end = 0\n",
    "for cyl in df_cylinder_plot.Cylinders.unique():\n",
    "    df_tmp = df_cylinder_plot[df_cylinder_plot.Cylinders == cyl]\n",
    "    ax.barh(df_tmp.Origin, df_tmp.car_count, left=prev_end, label=cyl)\n",
    "    prev_end = df_tmp.car_count.values + prev_end\n",
    "ax.legend()\n",
    "ax.set_title('Nr of cars per nr of cylinders')\n",
    "\n",
    "### Scatterchart for HorsePower, Weight, Acceleration\n",
    "ax = axs['Z']\n",
    "scatter = ax.scatter(x=df_cars.Horsepower, y=df_cars.Weight_in_lbs, c=df_cars.Acceleration)\n",
    "ax.set_xlabel('HorsePower')\n",
    "ax.set_ylabel('Weight (lbs)')\n",
    "ax.set_title('HorsePower/Weight/Acceleration')\n",
    "fig.colorbar(scatter, ax=ax)\n",
    "\n",
    "_ = fig.suptitle('Misc Car Plots', fontsize=20)"
   ]
  },
  {
   "cell_type": "code",
   "execution_count": null,
   "id": "a5c09460-89ff-4147-ba09-bb2fc45a9e82",
   "metadata": {},
   "outputs": [],
   "source": []
  },
  {
   "cell_type": "markdown",
   "id": "73d7adcb-237b-43cb-b44d-b127ca7daa87",
   "metadata": {},
   "source": [
    "# How to use matplotlib outside of Jupyter notebooks"
   ]
  },
  {
   "cell_type": "markdown",
   "id": "1f572417-b49d-4274-9bbf-7f93fa1a394e",
   "metadata": {},
   "source": [
    "plt.ion() to turn on interactive mode"
   ]
  },
  {
   "cell_type": "markdown",
   "id": "09757176-899e-47b7-a4cb-df22f34d1aac",
   "metadata": {},
   "source": [
    "# Matplotlib interactivity inside Jupyter"
   ]
  },
  {
   "cell_type": "markdown",
   "id": "4f6cf672-8c22-4e04-97bb-bc6c710b2182",
   "metadata": {},
   "source": [
    "ipyml is extension for using matplotlib interactivly inside Jupyter: https://github.com/matplotlib/ipympl"
   ]
  },
  {
   "cell_type": "code",
   "execution_count": null,
   "id": "84e8cc61-8fba-4a3b-91ca-2cfeecf5396f",
   "metadata": {},
   "outputs": [],
   "source": []
  },
  {
   "cell_type": "code",
   "execution_count": null,
   "id": "c6f1df5b-7319-4185-a354-b60dfb206779",
   "metadata": {},
   "outputs": [],
   "source": [
    "%matplotlib widget"
   ]
  },
  {
   "cell_type": "code",
   "execution_count": null,
   "id": "9202f8ee-af4a-4b08-b140-b073ffd8ebce",
   "metadata": {},
   "outputs": [],
   "source": [
    "import numpy as np"
   ]
  },
  {
   "cell_type": "code",
   "execution_count": null,
   "id": "7dd48447-6e86-44e6-ba4a-0080258f5fa0",
   "metadata": {},
   "outputs": [],
   "source": [
    "plt.ion()\n",
    "\n",
    "fig = plt.figure()\n",
    "plt.plot(np.sin(np.linspace(0, 20, 100)));"
   ]
  },
  {
   "cell_type": "code",
   "execution_count": null,
   "id": "0ac60ad8-0654-4ed4-af43-ae86ecc3f279",
   "metadata": {},
   "outputs": [],
   "source": [
    "plt.plot(np.cos(np.linspace(0,20,100)))"
   ]
  },
  {
   "cell_type": "markdown",
   "id": "17a5d4cc-35da-4d6f-955c-c0ba3a4eae64",
   "metadata": {},
   "source": [
    "## 3D plots"
   ]
  },
  {
   "cell_type": "code",
   "execution_count": null,
   "id": "4705b6c5-5b90-4e38-8c59-110260f93052",
   "metadata": {},
   "outputs": [],
   "source": [
    "from mpl_toolkits.mplot3d import axes3d\n",
    "\n",
    "fig = plt.figure()\n",
    "ax = fig.add_subplot(111, projection='3d')\n",
    "\n",
    "# Grab some test data.\n",
    "X, Y, Z = axes3d.get_test_data(0.05)\n",
    "\n",
    "# Plot a basic wireframe.\n",
    "ax.plot_wireframe(X, Y, Z, rstride=10, cstride=10)\n",
    "\n",
    "plt.show()"
   ]
  },
  {
   "cell_type": "code",
   "execution_count": null,
   "id": "ba3a27bd-cb25-4507-9b7b-a2662f0329e5",
   "metadata": {},
   "outputs": [],
   "source": [
    "# When using the `widget` backend from ipympl,\n",
    "# fig.canvas is a proper Jupyter interactive widget, which can be embedded in\n",
    "# an ipywidgets layout. See https://ipywidgets.readthedocs.io/en/stable/examples/Layout%20Templates.html\n",
    "\n",
    "# One can bound figure attributes to other widget values.\n",
    "from ipywidgets import AppLayout, FloatSlider\n",
    "\n",
    "plt.ioff()\n",
    "\n",
    "slider = FloatSlider(\n",
    "    orientation='horizontal',\n",
    "    description='Factor:',\n",
    "    value=1.0,\n",
    "    min=0.02,\n",
    "    max=2.0\n",
    ")\n",
    "\n",
    "slider.layout.margin = '0px 30% 0px 30%'\n",
    "slider.layout.width = '40%'\n",
    "\n",
    "fig = plt.figure()\n",
    "fig.canvas.header_visible = False\n",
    "fig.canvas.layout.min_height = '400px'\n",
    "plt.title('Plotting: y=sin({} * x)'.format(slider.value))\n",
    "\n",
    "x = np.linspace(0, 20, 500)\n",
    "\n",
    "lines = plt.plot(x, np.sin(slider.value * x))\n",
    "\n",
    "def update_lines(change):\n",
    "    plt.title('Plotting: y=sin({} * x)'.format(change.new))\n",
    "    lines[0].set_data(x, np.sin(change.new * x))\n",
    "    fig.canvas.draw()\n",
    "    fig.canvas.flush_events()\n",
    "\n",
    "slider.observe(update_lines, names='value')\n",
    "\n",
    "AppLayout(\n",
    "    center=fig.canvas,\n",
    "    footer=slider,\n",
    "    pane_heights=[0, 6, 1]\n",
    ")"
   ]
  },
  {
   "cell_type": "markdown",
   "id": "f45f098e-8c20-4432-a8a3-1c3661255d7f",
   "metadata": {
    "toc-hr-collapsed": true
   },
   "source": [
    "# Enhance plots from pandas using your Matplotlib skills"
   ]
  },
  {
   "cell_type": "code",
   "execution_count": 158,
   "id": "de5b8813-7141-407b-9aa6-563ceb588a79",
   "metadata": {},
   "outputs": [],
   "source": [
    "# To get back to non-interactive mode\n",
    "# %matplotlib inline"
   ]
  },
  {
   "cell_type": "code",
   "execution_count": null,
   "id": "8aaa3038-48e4-46e7-896b-aab6664b9656",
   "metadata": {},
   "outputs": [],
   "source": [
    "df = data.stocks()\n",
    "df_pivot =  df.pivot(index='date', columns='symbol', values='price')\n",
    "df_pivot.plot(figsize=(16,8), grid=True)"
   ]
  },
  {
   "cell_type": "markdown",
   "id": "3634230d-6ff8-41a7-a5c7-3aa13bfaa31b",
   "metadata": {},
   "source": [
    "## Get axes object and annotate point"
   ]
  },
  {
   "cell_type": "code",
   "execution_count": null,
   "id": "6eec929b-2cdc-4467-818d-da68b96c63e1",
   "metadata": {},
   "outputs": [],
   "source": [
    "plt.ion()\n",
    "\n",
    "df = data.stocks()\n",
    "df_pivot =  df.pivot(index='date', columns='symbol', values='price')\n",
    "ax = df_pivot.plot(figsize=(16,8), grid=True)"
   ]
  },
  {
   "cell_type": "code",
   "execution_count": null,
   "id": "3d899e9c-00a6-4095-8dd3-7b9214f4a89a",
   "metadata": {},
   "outputs": [],
   "source": [
    "bbox = dict(boxstyle=\"round\", fc=\"0.8\")\n",
    "ax.annotate('What happend here?', ('2007-09-01',700),xytext=(-200,-20) ,textcoords='offset points', arrowprops=dict(width=4), bbox=bbox)\n",
    "\n",
    "ax.set_title('Stocks')"
   ]
  },
  {
   "cell_type": "code",
   "execution_count": null,
   "id": "fef3f2e3-a0c1-46b8-a2fa-9adf762213e3",
   "metadata": {},
   "outputs": [],
   "source": [
    "type(ax)"
   ]
  },
  {
   "cell_type": "markdown",
   "id": "d4ecb296-849a-487b-92d7-97fc39e0bda5",
   "metadata": {
    "toc-hr-collapsed": true
   },
   "source": [
    "# Python visualization alternatives\n",
    "**(Non complete list)**"
   ]
  },
  {
   "cell_type": "markdown",
   "id": "591df51b-d33f-4f1b-b0a3-9ed9cbda2b24",
   "metadata": {},
   "source": [
    "* [Matplotlib](https://matplotlib.org/stable/index.html)\n",
    "    - Oldest most established plotting library for Python\n",
    "    - Pros:  \n",
    "        - Control over every detail of plot\n",
    "        - Can get started quickly for simple plots\n",
    "        - Extensive documentation, examples, problem solutions available online\n",
    "    - Cons: \n",
    "        - Need to control every detail of plot, sometimes\n",
    "        - 2 API:s, sometimes confusing conventions\n",
    "* [Plotly](https://plotly.com/python/)\n",
    "    - Ambitious for-profit solution, but with open source, free, python library\n",
    "    - Pros:  \n",
    "        - Comprahensive as well as easy to get started, there is a high-level plotly.express part of the library for convinience\n",
    "        - There are also corresponding packages for javascript and R\n",
    "        - They have a \"Dash\" solution for building dash-boards using plotly visualizations\n",
    "    - Cons:  \n",
    "        - Trying to sell their for profit \"Enterprise\" products \n",
    "* [Bokeh](https://bokeh.org/)\n",
    "    - Interactive visualizations for the web (or inside Jupyter)\n",
    "    - Pros:  \n",
    "        - Focus on interactive web-based visualization\n",
    "    - Cons:  \n",
    "        - API has changed substantially over time\n",
    "* [Altair](https://altair-viz.github.io/index.html)\n",
    "    - Declarative plotting based on the Vega emerging web-standard\n",
    "    - Pros:   \n",
    "        - Once grasped the declaraive style is powerfull and intuitive\n",
    "        - Tightly coupled to pandas DataFrames\n",
    "    - Cons:   \n",
    "        - The newest alternative, some functionallity might be lacking  \n",
    "        - Depends on development of the Vega standard (also a strength)\n",
    "        - Data gets embedded in plot definition, can lead to large notebooks. \n",
    "        - There is a default limit of 5.000 datapoints. (limit can be disabled)\n",
    "* [Seaborn](https://seaborn.pydata.org/)\n",
    "    - Statistical plotting, based on matplotlib\n",
    "    - Pros:  \n",
    "        - Advanced statistical plots in few lines of code\n",
    "    - Cons\n",
    "        - Not the same ambition to be a genral purpose plotting library as the others\n",
    "        "
   ]
  },
  {
   "cell_type": "markdown",
   "id": "4655ca07-b504-456c-9f09-d88b2e73e8ad",
   "metadata": {},
   "source": [
    "## Python's Visualization Landscape\n",
    "**can be a bit daunting**  \n",
    "But it is not as complex as picture below looks, and it is a good thing to have choices"
   ]
  },
  {
   "cell_type": "code",
   "execution_count": null,
   "id": "7a3fbbb1-0f9e-4320-87f7-65c975e7f8d2",
   "metadata": {
    "tags": []
   },
   "outputs": [],
   "source": [
    "from IPython.display import Image\n",
    "\n",
    "Image(filename=r'./PythonVisLandscape.jpg')"
   ]
  },
  {
   "cell_type": "markdown",
   "id": "6b747846-5f62-46a2-92cf-21d7a385cbed",
   "metadata": {
    "toc-hr-collapsed": true
   },
   "source": [
    "# Visualization distribution options"
   ]
  },
  {
   "cell_type": "markdown",
   "id": "13da0f75-d400-4146-ac55-1939b325b174",
   "metadata": {},
   "source": [
    "* Share jupyter notebook including visualization\n",
    "    - Nordea is creating Jupyterhub solution for sharing work in notebooks (status?)\n",
    "* Export as jpg/png/svg and include in Powerpoint/Word document etc.\n",
    "* Export jpg/png/svg to Confluence/Sharepoint (using Python)\n",
    "* Create custom HTML reports, including visualizations\n",
    "* Create dashboard using Dash or other dashboarding solution\n",
    "* Include in custom web-application (Flask/Django/FastAPI are python packages supporting the web part)\n",
    "* Nordea [Engineering System Platform](https://wiki.itgit.oneadr.net/display/ESP/Engineering+System+Platform) can help in setting up web-solution available internally in Nordea  \n",
    "    - Further improvement around this is possible and should be expected as part of move of functionallity to cloud"
   ]
  },
  {
   "cell_type": "markdown",
   "id": "7a694c1a-163b-4328-a86c-d8ca0489d7bd",
   "metadata": {},
   "source": [
    "## Dashboarding solutions for Python"
   ]
  },
  {
   "cell_type": "markdown",
   "id": "b0ca1f9a-d993-44b8-a36f-5ddc235a05f1",
   "metadata": {},
   "source": [
    "\n",
    "An ambitious article comparing Dash / Streamlit / Voilá / Panel  \n",
    "https://medium.datadriveninvestor.com/streamlit-vs-dash-vs-voil%C3%A0-vs-panel-battle-of-the-python-dashboarding-giants-177c40b9ea57  \n",
    "\n",
    "**TL;DR**  \n",
    "Dash is currently maybe most compelling alternative with Streamlit beeing up-and-coming option for quickly turning python scripts into dashboards "
   ]
  },
  {
   "cell_type": "markdown",
   "id": "0965fbdc-bd77-48a5-9a41-d218544a8325",
   "metadata": {},
   "source": [
    "# Extra"
   ]
  },
  {
   "cell_type": "markdown",
   "id": "2c19d5a9-7c33-4787-9bce-9c3efa01f7c4",
   "metadata": {},
   "source": [
    "## Change pandas plotting backend"
   ]
  },
  {
   "cell_type": "markdown",
   "id": "aa56c4c3-8d47-43d9-9baa-89acc18f45fb",
   "metadata": {},
   "source": [
    "A fairly recent addeed feature in pandas is the ability to install and use other default plotting backends than matplotlib.  \n",
    "Options like Bokeh and hvplot can add more interactive plots."
   ]
  },
  {
   "cell_type": "markdown",
   "id": "d1e5ffe1-f8c2-4dcd-9657-75dc25358d19",
   "metadata": {},
   "source": [
    "`pip install hvplot`  \n",
    "`pip install pandas_bokeh`"
   ]
  },
  {
   "cell_type": "code",
   "execution_count": null,
   "id": "c453c1a5-1cae-470e-9e11-9026a21e0c16",
   "metadata": {},
   "outputs": [],
   "source": [
    "pd.set_option(\"plotting.backend\", \"hvplot\")"
   ]
  },
  {
   "cell_type": "code",
   "execution_count": null,
   "id": "1d88d843-00b1-4ffa-b8b7-f47b3f16165b",
   "metadata": {},
   "outputs": [],
   "source": [
    "df.pivot(index='date', columns='symbol', values='price').plot(figsize=(16,8), grid=True)"
   ]
  },
  {
   "cell_type": "code",
   "execution_count": null,
   "id": "52d0f10c-e296-4b27-ac99-a35b7049712e",
   "metadata": {},
   "outputs": [],
   "source": [
    "pd.set_option(\"plotting.backend\", \"pandas_bokeh\")"
   ]
  },
  {
   "cell_type": "code",
   "execution_count": null,
   "id": "5ea98c36-fcfa-4b34-b1b8-706a56b2a1b5",
   "metadata": {
    "tags": []
   },
   "outputs": [],
   "source": [
    "df.pivot(index='date', columns='symbol', values='price').plot(sizing_mode=\"scale_width\")"
   ]
  },
  {
   "cell_type": "code",
   "execution_count": null,
   "id": "5d393f61-14aa-4588-b62f-5e8e4e3321b5",
   "metadata": {},
   "outputs": [],
   "source": [
    "df2 = df.pivot(index='date', columns='symbol', values='price')\n",
    "#df2.plot_bokeh(sizing_mode=\"scale_width\")\n",
    "df2.plot_bokeh(figsize=(1200,400))"
   ]
  },
  {
   "cell_type": "code",
   "execution_count": null,
   "id": "044969a1-83eb-4e33-88e8-1b899605d4f4",
   "metadata": {},
   "outputs": [],
   "source": [
    "# To change back to use matplotlib\n",
    "pd.set_option(\"plotting.backend\", 'matplotlib')"
   ]
  },
  {
   "cell_type": "markdown",
   "id": "d2b6986c-fdef-44a2-9ab9-d0e80bc09bb2",
   "metadata": {},
   "source": [
    "## Most used data science libraries\n",
    "as per [python-developers-survey-2020](https://www.jetbrains.com/lp/python-developers-survey-2020/)"
   ]
  },
  {
   "cell_type": "code",
   "execution_count": null,
   "id": "289ccb02-3c1d-4f68-bce0-0a22f3bc981d",
   "metadata": {},
   "outputs": [],
   "source": [
    "from IPython.display import Image\n",
    "\n",
    "Image('./python_survey_2020_data_science_frameworks_libraries.png')"
   ]
  }
 ],
 "metadata": {
  "kernelspec": {
   "display_name": "local-venv",
   "language": "python",
   "name": "local-venv"
  },
  "language_info": {
   "codemirror_mode": {
    "name": "ipython",
    "version": 3
   },
   "file_extension": ".py",
   "mimetype": "text/x-python",
   "name": "python",
   "nbconvert_exporter": "python",
   "pygments_lexer": "ipython3",
   "version": "3.8.2"
  },
  "toc-autonumbering": false,
  "toc-showtags": true
 },
 "nbformat": 4,
 "nbformat_minor": 5
}
