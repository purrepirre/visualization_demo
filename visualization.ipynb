{
 "cells": [
  {
   "cell_type": "markdown",
   "metadata": {},
   "source": [
    "# Python data visualization"
   ]
  },
  {
   "cell_type": "markdown",
   "metadata": {},
   "source": [
    "## Agenda\n",
    "\n",
    "* Plotting from pandas\n",
    "* Matplotlib basics\n",
    "* Python visualization alternatives (briefly)\n",
    "    - Matplotlib\n",
    "    - Plotly\n",
    "    - Bokeh\n",
    "    - Altair\n",
    "    - Seaborn\n",
    "    - ...\n",
    "* Visualization distribution options"
   ]
  },
  {
   "cell_type": "markdown",
   "metadata": {},
   "source": [
    "# Setup"
   ]
  },
  {
   "cell_type": "markdown",
   "metadata": {},
   "source": [
    "**To run notebooks in local jupyter lab**\n",
    "* Clone repo: https://bitbucket.itgit.oneadr.net/scm/~m015696/pandas_visualization.git\n",
    "* run `pip install -r requirements.txt` in command prompt to install all requirements\n",
    "* start jupyter lab with: `jupyter lab`\n",
    "\n",
    "**To follow along in notebook in Binder (temporary web version)**\n",
    "* Go to link: https://mybinder.org/v2/gh/purrepirre/visualization_demo/HEAD\n",
    "\n",
    "**Jupyter lab basics**\n",
    "* Shift + ENTER to run cell and move to next  \n",
    "* Shift + TAB to get contextual documentation "
   ]
  },
  {
   "cell_type": "code",
   "execution_count": null,
   "metadata": {},
   "outputs": [],
   "source": [
    "from vega_datasets import data\n",
    "import pandas as pd"
   ]
  },
  {
   "cell_type": "markdown",
   "metadata": {},
   "source": [
    "# Plotting from pandas"
   ]
  },
  {
   "cell_type": "markdown",
   "metadata": {},
   "source": [
    "By default plotting directly from pandas used [matplotlib](https://matplotlib.org/) as the plotting backend  \n"
   ]
  },
  {
   "cell_type": "markdown",
   "metadata": {},
   "source": [
    "### Get sample data"
   ]
  },
  {
   "cell_type": "code",
   "execution_count": null,
   "metadata": {},
   "outputs": [],
   "source": [
    "df = data.stocks()\n",
    "df.head()"
   ]
  },
  {
   "cell_type": "code",
   "execution_count": null,
   "metadata": {},
   "outputs": [],
   "source": [
    "df.symbol.value_counts()"
   ]
  },
  {
   "cell_type": "markdown",
   "metadata": {},
   "source": [
    "## Plot individual stock"
   ]
  },
  {
   "cell_type": "code",
   "execution_count": null,
   "metadata": {},
   "outputs": [],
   "source": [
    "df.loc[df.symbol=='AAPL'].plot(x='date',y='price')"
   ]
  },
  {
   "cell_type": "markdown",
   "metadata": {},
   "source": [
    "### Adjust plotsize"
   ]
  },
  {
   "cell_type": "code",
   "execution_count": null,
   "metadata": {},
   "outputs": [],
   "source": [
    "df.loc[df.symbol=='AAPL'].plot(x='date',y='price', figsize=(16,8), grid=True)"
   ]
  },
  {
   "cell_type": "markdown",
   "metadata": {},
   "source": [
    "### Re-structure data to plot all categories (stocks)"
   ]
  },
  {
   "cell_type": "code",
   "execution_count": null,
   "metadata": {},
   "outputs": [],
   "source": [
    "df_pivot =  df.pivot(index='date', columns='symbol', values='price')"
   ]
  },
  {
   "cell_type": "code",
   "execution_count": null,
   "metadata": {},
   "outputs": [],
   "source": [
    "df_pivot"
   ]
  },
  {
   "cell_type": "code",
   "execution_count": null,
   "metadata": {},
   "outputs": [],
   "source": [
    "df_pivot.plot(figsize=(16,8), grid=True)"
   ]
  },
  {
   "cell_type": "markdown",
   "metadata": {},
   "source": [
    "## Series plotting"
   ]
  },
  {
   "cell_type": "markdown",
   "metadata": {},
   "source": [
    "### Get some data about cars!"
   ]
  },
  {
   "cell_type": "code",
   "execution_count": null,
   "metadata": {},
   "outputs": [],
   "source": [
    "df_cars = data.cars()\n",
    "df_cars.head()"
   ]
  },
  {
   "cell_type": "code",
   "execution_count": null,
   "metadata": {},
   "outputs": [],
   "source": [
    "df_cars.Horsepower.plot.hist(figsize=(12,6))"
   ]
  },
  {
   "cell_type": "code",
   "execution_count": null,
   "metadata": {},
   "outputs": [],
   "source": [
    "type(_)"
   ]
  },
  {
   "cell_type": "code",
   "execution_count": null,
   "metadata": {},
   "outputs": [],
   "source": [
    "df_cars_by_origin = df_cars.groupby('Origin').mean()\n",
    "df_cars_by_origin"
   ]
  },
  {
   "cell_type": "code",
   "execution_count": null,
   "metadata": {},
   "outputs": [],
   "source": [
    "\n",
    "_ = df_cars_by_origin.loc[:,'Horsepower'].plot.barh(figsize=(20,8), title='Horsepower (mean)')"
   ]
  },
  {
   "cell_type": "markdown",
   "metadata": {},
   "source": [
    "## pandas plotting tools"
   ]
  },
  {
   "cell_type": "markdown",
   "metadata": {},
   "source": [
    "Specialized plots for special occasions"
   ]
  },
  {
   "cell_type": "code",
   "execution_count": null,
   "metadata": {},
   "outputs": [],
   "source": [
    "from pandas.plotting import scatter_matrix"
   ]
  },
  {
   "cell_type": "markdown",
   "metadata": {},
   "source": [
    "### Scatter matrix"
   ]
  },
  {
   "cell_type": "markdown",
   "metadata": {},
   "source": [
    "Use case: give a quick overview of how each column in a dataframe relates to the other columns"
   ]
  },
  {
   "cell_type": "code",
   "execution_count": null,
   "metadata": {},
   "outputs": [],
   "source": [
    "_ = scatter_matrix(df_cars, figsize=(24,18))"
   ]
  },
  {
   "cell_type": "markdown",
   "metadata": {},
   "source": [
    "### What happend to \"Year\" info?"
   ]
  },
  {
   "cell_type": "code",
   "execution_count": null,
   "metadata": {},
   "outputs": [],
   "source": [
    "df_cars.head()"
   ]
  },
  {
   "cell_type": "markdown",
   "metadata": {},
   "source": [
    "#### Make new numeric \"Year\" column"
   ]
  },
  {
   "cell_type": "code",
   "execution_count": null,
   "metadata": {},
   "outputs": [],
   "source": [
    "df_cars['make_year'] = df_cars.Year.dt.year"
   ]
  },
  {
   "cell_type": "code",
   "execution_count": null,
   "metadata": {},
   "outputs": [],
   "source": [
    "_ = scatter_matrix(df_cars, figsize=(24,18))"
   ]
  },
  {
   "cell_type": "code",
   "execution_count": null,
   "metadata": {},
   "outputs": [],
   "source": []
  },
  {
   "cell_type": "markdown",
   "metadata": {},
   "source": [
    "## More info on pandas plotting "
   ]
  },
  {
   "cell_type": "markdown",
   "metadata": {},
   "source": [
    "The [Visualization Chapter](https://pandas.pydata.org/docs/user_guide/visualization.html#) of the pandas User Guide gives a good overview  \n",
    "In the [Cookbook](https://pandas.pydata.org/docs/user_guide/cookbook.html#plotting) section of the pandas docs there is a section around Visualization techniques  \n",
    "Overview of [Pandas visualization ecosystem](https://pandas.pydata.org/docs/ecosystem.html#visualization)  "
   ]
  },
  {
   "cell_type": "markdown",
   "metadata": {
    "tags": []
   },
   "source": [
    "# Matplotlib Basics"
   ]
  },
  {
   "cell_type": "markdown",
   "metadata": {},
   "source": [
    "* Extensive documentation available at: https://matplotlib.org/"
   ]
  },
  {
   "cell_type": "markdown",
   "metadata": {},
   "source": [
    "**Pros**\n",
    "* Easy to get started\n",
    "* Powerful\n",
    "* Almost every aspect of plot is configurable\n",
    "* Plenty of examples and good documentation available\n",
    "* Used for long time by many --> Most problems/questions have answers on StackOverflow etc.\n",
    "\n",
    "**Cons**\n",
    "* 2 APIs \"Pyplot\" and Object-oriented, need to choose and/or be aware of difference\n",
    "* Pyplot API statefullness can be a bit confusing (from beginning built to mimic MATLAB)\n",
    "* Main target output is static images (interacivity is possible)\n",
    "\n",
    "_Matplotlib makes easy things easy and hard things possible._"
   ]
  },
  {
   "cell_type": "code",
   "execution_count": null,
   "metadata": {},
   "outputs": [],
   "source": [
    "import matplotlib.pyplot as plt\n",
    "from vega_datasets import data\n",
    "import pandas as pd"
   ]
  },
  {
   "cell_type": "code",
   "execution_count": null,
   "metadata": {},
   "outputs": [],
   "source": [
    "x = [1,3,5,10]\n",
    "y = [1,10,5,20]\n",
    "\n",
    "plt.plot(x,y)"
   ]
  },
  {
   "cell_type": "code",
   "execution_count": null,
   "metadata": {},
   "outputs": [],
   "source": [
    "df_stocks = data.stocks()\n",
    "df_stocks.head()"
   ]
  },
  {
   "cell_type": "code",
   "execution_count": null,
   "metadata": {},
   "outputs": [],
   "source": [
    "df_tmp = df_stocks[df_stocks.symbol=='MSFT']\n",
    "x = df_tmp.date\n",
    "y = df_tmp.price"
   ]
  },
  {
   "cell_type": "markdown",
   "metadata": {},
   "source": [
    "## Pyplot API (built to mimic MATLAB)"
   ]
  },
  {
   "cell_type": "code",
   "execution_count": null,
   "metadata": {},
   "outputs": [],
   "source": [
    "plt.figure(figsize=(18,6))\n",
    "plt.plot(x,y)\n",
    "_ = plt.title('Stock prices')\n"
   ]
  },
  {
   "cell_type": "markdown",
   "metadata": {},
   "source": [
    "The Pyplot API has the concept of \"currently active\" figure and axes  \n",
    "This can be convinient for simple cases, but makes things confusing for more complex plots"
   ]
  },
  {
   "cell_type": "markdown",
   "metadata": {},
   "source": [
    "## Object-oriented API (recommended)"
   ]
  },
  {
   "cell_type": "code",
   "execution_count": null,
   "metadata": {},
   "outputs": [],
   "source": [
    "fig, ax = plt.subplots(figsize=(18,6))\n",
    "ax.plot(x,y)\n",
    "_ = ax.set_title('Stock prices')"
   ]
  },
  {
   "cell_type": "markdown",
   "metadata": {},
   "source": [
    "### Terminology: Axes and Axis"
   ]
  },
  {
   "cell_type": "markdown",
   "metadata": {},
   "source": [
    "Most of the terms are straightforward but the main thing to remember is that:\n",
    "\n",
    "The _Figure_ is the final image that may contain 1 or more _Axes_.  \n",
    "The Axes represent an individual plot (don't confuse this with the word \"axis\", which refers to the x/y axis of a plot)."
   ]
  },
  {
   "cell_type": "markdown",
   "metadata": {},
   "source": [
    "## Multiple lines in same plot"
   ]
  },
  {
   "cell_type": "code",
   "execution_count": null,
   "metadata": {},
   "outputs": [],
   "source": [
    "df_stocks = data.stocks()\n",
    "df_stocks"
   ]
  },
  {
   "cell_type": "markdown",
   "metadata": {},
   "source": [
    "To draw multiple lines in same axes we need to loop and draw one at the time"
   ]
  },
  {
   "cell_type": "code",
   "execution_count": null,
   "metadata": {},
   "outputs": [],
   "source": [
    "fig, ax = plt.subplots(figsize=(18,6))\n",
    "\n",
    "for symbol in df_stocks.symbol.unique():\n",
    "    df_tmp = df_stocks[df_stocks.symbol==symbol]\n",
    "    ax.plot(df_tmp.date, df_tmp.price, label=symbol)\n",
    "\n",
    "ax.legend()\n",
    "_ = ax.set_title('Prices')"
   ]
  },
  {
   "cell_type": "markdown",
   "metadata": {},
   "source": [
    "## Subplots"
   ]
  },
  {
   "cell_type": "code",
   "execution_count": null,
   "metadata": {
    "tags": []
   },
   "outputs": [],
   "source": [
    "fig, axs = plt.subplots(nrows=3, ncols=2, figsize=(36,12), sharex=True)\n",
    "axs = axs.flatten()\n",
    "\n",
    "for i, symbol in enumerate(df_stocks.symbol.unique()):\n",
    "    df_tmp = df_stocks[df_stocks.symbol==symbol]\n",
    "    ax = axs[i]\n",
    "    ax.plot(df_tmp.date, df_tmp.price)\n",
    "    ax.set_title(f'Stock prices for {symbol}')\n",
    "    ax.grid(True)\n",
    "\n",
    "_ = fig.suptitle('STOCK PRICES')    "
   ]
  },
  {
   "cell_type": "markdown",
   "metadata": {},
   "source": [
    "## Scatter plot"
   ]
  },
  {
   "cell_type": "code",
   "execution_count": null,
   "metadata": {},
   "outputs": [],
   "source": [
    "df_stocks = data.stocks()\n",
    "df_stocks"
   ]
  },
  {
   "cell_type": "markdown",
   "metadata": {},
   "source": [
    "Example: Scatter-plot over yields over two differnt periods "
   ]
  },
  {
   "cell_type": "code",
   "execution_count": null,
   "metadata": {},
   "outputs": [],
   "source": [
    "df_tmp = df_stocks.pivot(index='date', columns='symbol', values='price')\n",
    "\n",
    "df_tmp"
   ]
  },
  {
   "cell_type": "code",
   "execution_count": null,
   "metadata": {},
   "outputs": [],
   "source": [
    "def get_yield(periods):\n",
    "    '''\n",
    "        Calculate yield over a given number of periods\n",
    "        param: periods: Number of periods back to compare with\n",
    "    '''\n",
    "    df_diff = df_tmp.diff(periods=periods)\n",
    "    return df_diff.div(df_tmp.shift(periods), axis='columns')"
   ]
  },
  {
   "cell_type": "code",
   "execution_count": null,
   "metadata": {},
   "outputs": [],
   "source": [
    "fig, ax = plt.subplots(figsize=(20,12))\n",
    "\n",
    "X_YIELD_PERIODS = 12\n",
    "Y_YIELD_PERIODS = 1\n",
    "\n",
    "ax.scatter(x=get_yield(periods=X_YIELD_PERIODS).values.flatten(), y=get_yield(periods=Y_YIELD_PERIODS).values.flatten())\n",
    "\n",
    "ax.grid(True)\n",
    "ax.set_xlabel(f'Yield over {X_YIELD_PERIODS} month(s)')\n",
    "ax.set_ylabel(f'Yield over {Y_YIELD_PERIODS} month(s)')"
   ]
  },
  {
   "cell_type": "markdown",
   "metadata": {},
   "source": [
    "The data-munging capabilities of pandas + powerful visualization from matplotlib/plotly/altair + Interactive environment like Jupyter ==> Data Analysis Goodness "
   ]
  },
  {
   "cell_type": "markdown",
   "metadata": {},
   "source": [
    "## Mix of plot types"
   ]
  },
  {
   "cell_type": "code",
   "execution_count": null,
   "metadata": {},
   "outputs": [],
   "source": [
    "from matplotlib import cm\n",
    "from cycler import cycler"
   ]
  },
  {
   "cell_type": "code",
   "execution_count": null,
   "metadata": {},
   "outputs": [],
   "source": [
    "df_cars = data.cars()\n",
    "df_cars.head()"
   ]
  },
  {
   "cell_type": "code",
   "execution_count": null,
   "metadata": {},
   "outputs": [],
   "source": [
    "fig,ax = plt.subplots(figsize=(16,16))\n",
    "s = ax.scatter(x=df_cars.Horsepower, y=df_cars.Weight_in_lbs, c=df_cars.Acceleration, cmap=cm.cividis)\n",
    "plt.colorbar(s)"
   ]
  },
  {
   "cell_type": "code",
   "execution_count": null,
   "metadata": {},
   "outputs": [],
   "source": [
    "colmap = cm.tab10"
   ]
  },
  {
   "cell_type": "code",
   "execution_count": null,
   "metadata": {},
   "outputs": [],
   "source": [
    "colors = {key:colmap(i) for i,key in enumerate(df_cars.Origin.unique())}"
   ]
  },
  {
   "cell_type": "code",
   "execution_count": null,
   "metadata": {},
   "outputs": [],
   "source": [
    "colors"
   ]
  },
  {
   "cell_type": "code",
   "execution_count": null,
   "metadata": {},
   "outputs": [],
   "source": [
    "df_cylinder_plot = df_cars.groupby(['Origin','Cylinders']).count().iloc[:,0].reset_index().rename({'Name':'car_count'}, axis=1)\n",
    "df_cylinder_plot"
   ]
  },
  {
   "cell_type": "code",
   "execution_count": null,
   "metadata": {},
   "outputs": [],
   "source": [
    "lo = '''\n",
    "    AAD\n",
    "    BCD\n",
    "    ZZZ\n",
    "'''\n",
    "\n",
    "fig, axs = plt.subplot_mosaic(layout = lo, figsize=(24,16))\n",
    "\n",
    "### Nr of cars per year\n",
    "ax = axs['A']\n",
    "df_by_year = df_cars.groupby('Year').count().iloc[:,0].reset_index().rename({'Name':'car_count'}, axis=1)\n",
    "ax.plot(df_by_year.Year, df_by_year.car_count, '-o')\n",
    "ax.set_ylim((0,65))\n",
    "ax.grid(True)\n",
    "ax.set_title('Nr of cars per year')\n",
    "\n",
    "### Cars by origin pie-chart\n",
    "ax = axs['B']\n",
    "ax.pie(df_cars.Origin.value_counts(), labels=df_cars.Origin.value_counts().index)\n",
    "ax.set_title('Nr of cars by Origin')\n",
    "\n",
    "### Scatter-chart horse-power vs. Miles per Gallon\n",
    "ax = axs['C']\n",
    "ax.scatter(df_cars.Horsepower,df_cars.Miles_per_Gallon ,c=df_cars.Origin.map(colors), alpha=0.8)\n",
    "ax.set_title('HorsePower vs. Miles per Gallon')\n",
    "ax.set_xlabel('Horsepower')\n",
    "ax.set_ylabel('Miles per Gallon')\n",
    "\n",
    "\n",
    "### Plot bar-chart per cylinder count\n",
    "ax = axs['D']\n",
    "df_cylinder_plot = df_cars.groupby(['Origin','Cylinders']).count().iloc[:,0].reset_index().rename({'Name':'car_count'}, axis=1)\n",
    "\n",
    "### Make sure we have values for every combination of Origin + Cyliners\n",
    "mi = pd.MultiIndex.from_product([df_cylinder_plot.Origin.unique(), df_cylinder_plot.Cylinders.unique()], names=['Origin','Cylinders'])\n",
    "df_cylinder_plot = df_cylinder_plot.set_index(['Origin','Cylinders']).reindex(mi, fill_value=0).reset_index()\n",
    "\n",
    "### iterate over each cylinder_count, and add to plot, taking into account to stack the plot by starting bars where last iteration ended with \"left=cyl\" parameter\n",
    "prev_end = 0\n",
    "for cyl in df_cylinder_plot.Cylinders.unique():\n",
    "    df_tmp = df_cylinder_plot[df_cylinder_plot.Cylinders == cyl]\n",
    "    ax.barh(df_tmp.Origin, df_tmp.car_count, left=prev_end, label=cyl)\n",
    "    prev_end = df_tmp.car_count.values + prev_end\n",
    "ax.legend()\n",
    "ax.set_title('Nr of cars per nr of cylinders')\n",
    "\n",
    "### Scatterchart for HorsePower, Weight, Acceleration\n",
    "ax = axs['Z']\n",
    "scatter = ax.scatter(x=df_cars.Horsepower, y=df_cars.Weight_in_lbs, c=df_cars.Acceleration)\n",
    "ax.set_xlabel('HorsePower')\n",
    "ax.set_ylabel('Weight (lbs)')\n",
    "ax.set_title('HorsePower/Weight/Acceleration')\n",
    "fig.colorbar(scatter, ax=ax)\n",
    "\n",
    "_ = fig.suptitle('Misc Car Plots', fontsize=20)"
   ]
  },
  {
   "cell_type": "code",
   "execution_count": null,
   "metadata": {},
   "outputs": [],
   "source": []
  },
  {
   "cell_type": "markdown",
   "metadata": {},
   "source": [
    "# How to use matplotlib outside of Jupyter notebooks"
   ]
  },
  {
   "cell_type": "markdown",
   "metadata": {},
   "source": [
    "plt.ion() to turn on interactive mode"
   ]
  },
  {
   "cell_type": "markdown",
   "metadata": {},
   "source": [
    "# Matplotlib interactivity inside Jupyter"
   ]
  },
  {
   "cell_type": "markdown",
   "metadata": {},
   "source": [
    "ipyml is extension for using matplotlib interactivly inside Jupyter: https://github.com/matplotlib/ipympl"
   ]
  },
  {
   "cell_type": "code",
   "execution_count": null,
   "metadata": {},
   "outputs": [],
   "source": []
  },
  {
   "cell_type": "code",
   "execution_count": null,
   "metadata": {},
   "outputs": [],
   "source": [
    "%matplotlib widget"
   ]
  },
  {
   "cell_type": "code",
   "execution_count": null,
   "metadata": {},
   "outputs": [],
   "source": [
    "import numpy as np"
   ]
  },
  {
   "cell_type": "code",
   "execution_count": null,
   "metadata": {},
   "outputs": [],
   "source": [
    "plt.ion()\n",
    "\n",
    "fig = plt.figure()\n",
    "plt.plot(np.sin(np.linspace(0, 20, 100)));"
   ]
  },
  {
   "cell_type": "code",
   "execution_count": null,
   "metadata": {},
   "outputs": [],
   "source": [
    "plt.plot(np.cos(np.linspace(0,20,100)))"
   ]
  },
  {
   "cell_type": "markdown",
   "metadata": {},
   "source": [
    "## 3D plots"
   ]
  },
  {
   "cell_type": "code",
   "execution_count": null,
   "metadata": {},
   "outputs": [],
   "source": [
    "from mpl_toolkits.mplot3d import axes3d\n",
    "\n",
    "fig = plt.figure()\n",
    "ax = fig.add_subplot(111, projection='3d')\n",
    "\n",
    "# Grab some test data.\n",
    "X, Y, Z = axes3d.get_test_data(0.05)\n",
    "\n",
    "# Plot a basic wireframe.\n",
    "ax.plot_wireframe(X, Y, Z, rstride=10, cstride=10)\n",
    "\n",
    "plt.show()"
   ]
  },
  {
   "cell_type": "code",
   "execution_count": null,
   "metadata": {},
   "outputs": [],
   "source": [
    "# When using the `widget` backend from ipympl,\n",
    "# fig.canvas is a proper Jupyter interactive widget, which can be embedded in\n",
    "# an ipywidgets layout. See https://ipywidgets.readthedocs.io/en/stable/examples/Layout%20Templates.html\n",
    "\n",
    "# One can bound figure attributes to other widget values.\n",
    "from ipywidgets import AppLayout, FloatSlider\n",
    "\n",
    "plt.ioff()\n",
    "\n",
    "slider = FloatSlider(\n",
    "    orientation='horizontal',\n",
    "    description='Factor:',\n",
    "    value=1.0,\n",
    "    min=0.02,\n",
    "    max=2.0\n",
    ")\n",
    "\n",
    "slider.layout.margin = '0px 30% 0px 30%'\n",
    "slider.layout.width = '40%'\n",
    "\n",
    "fig = plt.figure()\n",
    "fig.canvas.header_visible = False\n",
    "fig.canvas.layout.min_height = '400px'\n",
    "plt.title('Plotting: y=sin({} * x)'.format(slider.value))\n",
    "\n",
    "x = np.linspace(0, 20, 500)\n",
    "\n",
    "lines = plt.plot(x, np.sin(slider.value * x))\n",
    "\n",
    "def update_lines(change):\n",
    "    plt.title('Plotting: y=sin({} * x)'.format(change.new))\n",
    "    lines[0].set_data(x, np.sin(change.new * x))\n",
    "    fig.canvas.draw()\n",
    "    fig.canvas.flush_events()\n",
    "\n",
    "slider.observe(update_lines, names='value')\n",
    "\n",
    "AppLayout(\n",
    "    center=fig.canvas,\n",
    "    footer=slider,\n",
    "    pane_heights=[0, 6, 1]\n",
    ")"
   ]
  },
  {
   "cell_type": "markdown",
   "metadata": {
    "toc-hr-collapsed": true
   },
   "source": [
    "# Enhance plots from pandas using your Matplotlib skills"
   ]
  },
  {
   "cell_type": "code",
   "execution_count": 158,
   "metadata": {},
   "outputs": [],
   "source": [
    "# To get back to non-interactive mode\n",
    "# %matplotlib inline"
   ]
  },
  {
   "cell_type": "code",
   "execution_count": null,
   "metadata": {},
   "outputs": [],
   "source": [
    "df = data.stocks()\n",
    "df_pivot =  df.pivot(index='date', columns='symbol', values='price')\n",
    "df_pivot.plot(figsize=(16,8), grid=True)"
   ]
  },
  {
   "cell_type": "markdown",
   "metadata": {},
   "source": [
    "## Get axes object and annotate point"
   ]
  },
  {
   "cell_type": "code",
   "execution_count": null,
   "metadata": {},
   "outputs": [],
   "source": [
    "plt.ion()\n",
    "\n",
    "df = data.stocks()\n",
    "df_pivot =  df.pivot(index='date', columns='symbol', values='price')\n",
    "ax = df_pivot.plot(figsize=(16,8), grid=True)"
   ]
  },
  {
   "cell_type": "code",
   "execution_count": null,
   "metadata": {},
   "outputs": [],
   "source": [
    "bbox = dict(boxstyle=\"round\", fc=\"0.8\")\n",
    "ax.annotate('What happend here?', ('2007-09-01',700),xytext=(-200,-20) ,textcoords='offset points', arrowprops=dict(width=4), bbox=bbox)\n",
    "\n",
    "ax.set_title('Stocks')"
   ]
  },
  {
   "cell_type": "code",
   "execution_count": null,
   "metadata": {},
   "outputs": [],
   "source": [
    "type(ax)"
   ]
  },
  {
   "cell_type": "markdown",
   "metadata": {
    "toc-hr-collapsed": true
   },
   "source": [
    "# Python visualization alternatives\n",
    "**(Non complete list)**"
   ]
  },
  {
   "cell_type": "markdown",
   "metadata": {},
   "source": [
    "* [Matplotlib](https://matplotlib.org/stable/index.html)\n",
    "    - Oldest most established plotting library for Python\n",
    "    - Pros:  \n",
    "        - Control over every detail of plot\n",
    "        - Can get started quickly for simple plots\n",
    "        - Extensive documentation, examples, problem solutions available online\n",
    "    - Cons: \n",
    "        - Need to control every detail of plot, sometimes\n",
    "        - 2 API:s, sometimes confusing conventions\n",
    "* [Plotly](https://plotly.com/python/)\n",
    "    - Ambitious for-profit solution, but with open source, free, python library\n",
    "    - Pros:  \n",
    "        - Comprahensive as well as easy to get started, there is a high-level plotly.express part of the library for convinience\n",
    "        - There are also corresponding packages for javascript and R\n",
    "        - They have a \"Dash\" solution for building dash-boards using plotly visualizations\n",
    "    - Cons:  \n",
    "        - Trying to sell their for profit \"Enterprise\" products \n",
    "* [Bokeh](https://bokeh.org/)\n",
    "    - Interactive visualizations for the web (or inside Jupyter)\n",
    "    - Pros:  \n",
    "        - Focus on interactive web-based visualization\n",
    "    - Cons:  \n",
    "        - API has changed substantially over time\n",
    "* [Altair](https://altair-viz.github.io/index.html)\n",
    "    - Declarative plotting based on the Vega emerging web-standard\n",
    "    - Pros:   \n",
    "        - Once grasped the declaraive style is powerfull and intuitive\n",
    "        - Tightly coupled to pandas DataFrames\n",
    "    - Cons:   \n",
    "        - The newest alternative, some functionallity might be lacking  \n",
    "        - Depends on development of the Vega standard (also a strength)\n",
    "        - Data gets embedded in plot definition, can lead to large notebooks. \n",
    "        - There is a default limit of 5.000 datapoints. (limit can be disabled)\n",
    "* [Seaborn](https://seaborn.pydata.org/)\n",
    "    - Statistical plotting, based on matplotlib\n",
    "    - Pros:  \n",
    "        - Advanced statistical plots in few lines of code\n",
    "    - Cons\n",
    "        - Not the same ambition to be a genral purpose plotting library as the others\n",
    "        "
   ]
  },
  {
   "cell_type": "markdown",
   "metadata": {},
   "source": [
    "## Python's Visualization Landscape\n",
    "**can be a bit daunting**  \n",
    "But it is not as complex as picture below looks, and it is a good thing to have choices"
   ]
  },
  {
   "cell_type": "code",
   "execution_count": null,
   "metadata": {
    "tags": []
   },
   "outputs": [],
   "source": [
    "from IPython.display import Image\n",
    "\n",
    "Image(filename=r'./PythonVisLandscape.jpg')"
   ]
  },
  {
   "cell_type": "markdown",
   "metadata": {
    "toc-hr-collapsed": true
   },
   "source": [
    "# Visualization distribution options"
   ]
  },
  {
   "cell_type": "markdown",
   "metadata": {},
   "source": [
    "* Share jupyter notebook including visualization\n",
    "    - Nordea is creating Jupyterhub solution for sharing work in notebooks (status?)\n",
    "* Export as jpg/png/svg and include in Powerpoint/Word document etc.\n",
    "* Export jpg/png/svg to Confluence/Sharepoint (using Python)\n",
    "* Create custom HTML reports, including visualizations\n",
    "* Create dashboard using Dash or other dashboarding solution\n",
    "* Include in custom web-application (Flask/Django/FastAPI are python packages supporting the web part)\n",
    "* Nordea [Engineering System Platform](https://wiki.itgit.oneadr.net/display/ESP/Engineering+System+Platform) can help in setting up web-solution available internally in Nordea  \n",
    "    - Further improvement around this is possible and should be expected as part of move of functionallity to cloud"
   ]
  },
  {
   "cell_type": "markdown",
   "metadata": {},
   "source": [
    "## Dashboarding solutions for Python"
   ]
  },
  {
   "cell_type": "markdown",
   "metadata": {},
   "source": [
    "\n",
    "An ambitious article comparing Dash / Streamlit / Voilá / Panel  \n",
    "https://medium.datadriveninvestor.com/streamlit-vs-dash-vs-voil%C3%A0-vs-panel-battle-of-the-python-dashboarding-giants-177c40b9ea57  \n",
    "\n",
    "**TL;DR**  \n",
    "Dash is currently maybe most compelling alternative with Streamlit beeing up-and-coming option for quickly turning python scripts into dashboards "
   ]
  },
  {
   "cell_type": "markdown",
   "metadata": {},
   "source": [
    "# Extra"
   ]
  },
  {
   "cell_type": "markdown",
   "metadata": {},
   "source": [
    "## Change pandas plotting backend"
   ]
  },
  {
   "cell_type": "markdown",
   "metadata": {},
   "source": [
    "A fairly recent addeed feature in pandas is the ability to install and use other default plotting backends than matplotlib.  \n",
    "Options like Bokeh and hvplot can add more interactive plots."
   ]
  },
  {
   "cell_type": "markdown",
   "metadata": {},
   "source": [
    "`pip install hvplot`  \n",
    "`pip install pandas_bokeh`"
   ]
  },
  {
   "cell_type": "code",
   "execution_count": null,
   "metadata": {},
   "outputs": [],
   "source": [
    "pd.set_option(\"plotting.backend\", \"hvplot\")"
   ]
  },
  {
   "cell_type": "code",
   "execution_count": null,
   "metadata": {},
   "outputs": [],
   "source": [
    "df.pivot(index='date', columns='symbol', values='price').plot(figsize=(16,8), grid=True)"
   ]
  },
  {
   "cell_type": "code",
   "execution_count": null,
   "metadata": {},
   "outputs": [],
   "source": [
    "pd.set_option(\"plotting.backend\", \"pandas_bokeh\")"
   ]
  },
  {
   "cell_type": "code",
   "execution_count": null,
   "metadata": {
    "tags": []
   },
   "outputs": [],
   "source": [
    "df.pivot(index='date', columns='symbol', values='price').plot(sizing_mode=\"scale_width\")"
   ]
  },
  {
   "cell_type": "code",
   "execution_count": null,
   "metadata": {},
   "outputs": [],
   "source": [
    "df2 = df.pivot(index='date', columns='symbol', values='price')\n",
    "#df2.plot_bokeh(sizing_mode=\"scale_width\")\n",
    "df2.plot_bokeh(figsize=(1200,400))"
   ]
  },
  {
   "cell_type": "code",
   "execution_count": null,
   "metadata": {},
   "outputs": [],
   "source": [
    "# To change back to use matplotlib\n",
    "pd.set_option(\"plotting.backend\", 'matplotlib')"
   ]
  },
  {
   "cell_type": "markdown",
   "metadata": {},
   "source": [
    "## Most used data science libraries\n",
    "as per [python-developers-survey-2020](https://www.jetbrains.com/lp/python-developers-survey-2020/)"
   ]
  },
  {
   "cell_type": "code",
   "execution_count": null,
   "metadata": {},
   "outputs": [],
   "source": [
    "from IPython.display import Image\n",
    "\n",
    "Image('./python_survey_2020_data_science_frameworks_libraries.png')"
   ]
  }
 ],
 "metadata": {
  "kernelspec": {
   "display_name": "Python 3",
   "language": "python",
   "name": "python3"
  },
  "language_info": {
   "codemirror_mode": {
    "name": "ipython",
    "version": 3
   },
   "file_extension": ".py",
   "mimetype": "text/x-python",
   "name": "python",
   "nbconvert_exporter": "python",
   "pygments_lexer": "ipython3",
   "version": "3.8.5"
  },
  "toc-autonumbering": false,
  "toc-showtags": true
 },
 "nbformat": 4,
 "nbformat_minor": 5
}
